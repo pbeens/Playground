{
  "nbformat": 4,
  "nbformat_minor": 0,
  "metadata": {
    "colab": {
      "provenance": [],
      "authorship_tag": "ABX9TyMHZXidxAEU1bElBvjEforP",
      "include_colab_link": true
    },
    "kernelspec": {
      "name": "python3",
      "display_name": "Python 3"
    },
    "language_info": {
      "name": "python"
    }
  },
  "cells": [
    {
      "cell_type": "markdown",
      "metadata": {
        "id": "view-in-github",
        "colab_type": "text"
      },
      "source": [
        "<a href=\"https://colab.research.google.com/github/pbeens/playground/blob/master/How_to_suppress_name_and_dtype_output%3F.ipynb\" target=\"_parent\"><img src=\"https://colab.research.google.com/assets/colab-badge.svg\" alt=\"Open In Colab\"/></a>"
      ]
    },
    {
      "cell_type": "code",
      "execution_count": 5,
      "metadata": {
        "colab": {
          "base_uri": "https://localhost:8080/"
        },
        "id": "NXFqYcFyXLYg",
        "outputId": "4f438013-11e7-4aec-c9e0-49cdd86581f3"
      },
      "outputs": [
        {
          "output_type": "stream",
          "name": "stdout",
          "text": [
            "10    1394041\n",
            "Name: Total, dtype: int64\n"
          ]
        }
      ],
      "source": [
        "import pandas as pd\n",
        "url = 'https://www.ontario.ca/page/facts-about-elementary-and-secondary-education'\n",
        "df_list = pd.read_html(url)\n",
        "print(df_list[0][-1:].Total)"
      ]
    },
    {
      "cell_type": "code",
      "source": [],
      "metadata": {
        "id": "v9peEnizXhXc"
      },
      "execution_count": null,
      "outputs": []
    }
  ]
}