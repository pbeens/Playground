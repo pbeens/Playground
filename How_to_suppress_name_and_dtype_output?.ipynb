{
  "nbformat": 4,
  "nbformat_minor": 0,
  "metadata": {
    "colab": {
      "provenance": [],
      "collapsed_sections": [],
      "authorship_tag": "ABX9TyPr4EpzspnYpPzO7BNmG+RQ",
      "include_colab_link": true
    },
    "kernelspec": {
      "name": "python3",
      "display_name": "Python 3"
    },
    "language_info": {
      "name": "python"
    }
  },
  "cells": [
    {
      "cell_type": "markdown",
      "metadata": {
        "id": "view-in-github",
        "colab_type": "text"
      },
      "source": [
        "<a href=\"https://colab.research.google.com/github/pbeens/playground/blob/master/How_to_suppress_name_and_dtype_output%3F.ipynb\" target=\"_parent\"><img src=\"https://colab.research.google.com/assets/colab-badge.svg\" alt=\"Open In Colab\"/></a>"
      ]
    },
    {
      "cell_type": "markdown",
      "source": [
        "Question: How can the program be modifed so it **only** outputs the highlighted number? \n",
        "\n",
        "Here is what the imported data looks like:\n",
        "\n",
        "<img src=\"https://github.com/pbeens/Images/raw/main/other/2022-11-01-Ontario-Elementary-Student_Numbers.jpg\">"
      ],
      "metadata": {
        "id": "4kM9aYISYKPL"
      }
    },
    {
      "cell_type": "code",
      "execution_count": 3,
      "metadata": {
        "colab": {
          "base_uri": "https://localhost:8080/"
        },
        "id": "NXFqYcFyXLYg",
        "outputId": "fb4326d0-c117-4716-ad60-6f9dbc31d095"
      },
      "outputs": [
        {
          "output_type": "stream",
          "name": "stdout",
          "text": [
            "10    1394041\n",
            "Name: Total, dtype: int64\n"
          ]
        }
      ],
      "source": [
        "import pandas as pd\n",
        "\n",
        "url = 'https://www.ontario.ca/page/facts-about-elementary-and-secondary-education'\n",
        "\n",
        "# read in the tables\n",
        "df_list = pd.read_html(url)\n",
        "\n",
        "# We only care about table[0]\n",
        "# Print the Total column in the last row [-1:] only\n",
        "print(df_list[0][-1:].Total)"
      ]
    }
  ]
}